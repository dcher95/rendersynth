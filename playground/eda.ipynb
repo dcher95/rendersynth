{
 "cells": [
  {
   "cell_type": "code",
   "execution_count": null,
   "id": "d97bed09",
   "metadata": {},
   "outputs": [],
   "source": [
    "# Get list of all osm tags in nyc bbox. V. full US?\n",
    "\n",
    "# Get distribution of different osm tags across the bbox? Compared to full US?\n",
    "\n",
    "# Sparsity within each bbox (how many pixels are empty)? Compare to full US?\n",
    "\n",
    "# Are tags consistent with osm images? Do tags have similar colors?"
   ]
  },
  {
   "cell_type": "code",
   "execution_count": null,
   "id": "e51622f7",
   "metadata": {},
   "outputs": [],
   "source": [
    "\n",
    "# # OSM + Satellite Imagery EDA for ControlNet Conditioning\n",
    "# This notebook explores:\n",
    "# 1. Spatial coverage & tag density\n",
    "# 2. Tag semantics & distribution\n",
    "# 3. Image-tag alignment\n",
    "# 4. Model-relevant tag embedding quality\n",
    "\n",
    "import os\n",
    "import pandas as pd\n",
    "import geopandas as gpd\n",
    "import matplotlib.pyplot as plt\n",
    "from shapely.geometry import box\n",
    "import seaborn as sns\n",
    "import numpy as np\n",
    "from sklearn.manifold import TSNE\n",
    "from sklearn.metrics.pairwise import cosine_similarity\n",
    "from tqdm import tqdm\n",
    "import warnings\n",
    "from PIL import Image\n",
    "warnings.filterwarnings('ignore')"
   ]
  },
  {
   "cell_type": "code",
   "execution_count": null,
   "id": "94dbd91f",
   "metadata": {},
   "outputs": [],
   "source": [
    "\n",
    "# --- CONFIG ---\n",
    "NYC_TAGS_PATH = \"./data/nyc_tags.geojson\"\n",
    "US_TAGS_PATH = \"./data/us_tags.geojson\"\n",
    "IMAGE_METADATA_PATH = \"./data/image_metadata.csv\"  # Includes image paths + associated tags\n",
    "TAG_EMBEDDINGS_PATH = \"./data/tag_embeddings.npy\"  # numpy array of shape (n_tags, d)\n",
    "TAG_LIST_PATH = \"./data/tag_list.csv\"  # CSV with columns: tag_id, tag_text\n"
   ]
  },
  {
   "cell_type": "code",
   "execution_count": null,
   "id": "0c440152",
   "metadata": {},
   "outputs": [],
   "source": [
    "\n",
    "# --- LOAD DATA ---\n",
    "nyc_gdf = gpd.read_file(NYC_TAGS_PATH)\n",
    "us_gdf = gpd.read_file(US_TAGS_PATH)\n",
    "img_df = pd.read_csv(IMAGE_METADATA_PATH)\n",
    "tag_embeddings = np.load(TAG_EMBEDDINGS_PATH)\n",
    "tag_text = pd.read_csv(TAG_LIST_PATH)\n"
   ]
  },
  {
   "cell_type": "code",
   "execution_count": null,
   "id": "0f817820",
   "metadata": {},
   "outputs": [],
   "source": [
    "# --- 1. SPATIAL COVERAGE & DENSITY ---\n",
    "def compute_tag_density(gdf, region_name, grid_size_km=1):\n",
    "    # Convert to EPSG:3857 for metric distances\n",
    "    gdf = gdf.to_crs(epsg=3857)\n",
    "    bounds = gdf.total_bounds\n",
    "    xmin, ymin, xmax, ymax = bounds\n",
    "    x_coords = np.arange(xmin, xmax, grid_size_km * 1000)\n",
    "    y_coords = np.arange(ymin, ymax, grid_size_km * 1000)\n",
    "\n",
    "    density_matrix = np.zeros((len(y_coords), len(x_coords)))\n",
    "    for idx, geom in enumerate(gdf.geometry):\n",
    "        centroid = geom.centroid\n",
    "        x_idx = np.searchsorted(x_coords, centroid.x) - 1\n",
    "        y_idx = np.searchsorted(y_coords, centroid.y) - 1\n",
    "        if 0 <= x_idx < len(x_coords) and 0 <= y_idx < len(y_coords):\n",
    "            density_matrix[y_idx, x_idx] += 1\n",
    "\n",
    "    plt.figure(figsize=(12, 8))\n",
    "    sns.heatmap(density_matrix, cmap=\"viridis\")\n",
    "    plt.title(f\"Tag Density Heatmap ({region_name})\")\n",
    "    plt.xlabel(\"X\")\n",
    "    plt.ylabel(\"Y\")\n",
    "    plt.show()\n",
    "\n",
    "compute_tag_density(nyc_gdf, \"NYC\")\n",
    "compute_tag_density(us_gdf, \"US\")\n"
   ]
  },
  {
   "cell_type": "code",
   "execution_count": null,
   "id": "2fd3bd4e",
   "metadata": {},
   "outputs": [],
   "source": [
    "# --- 2. TAG SEMANTICS & DISTRIBUTION ---\n",
    "def plot_tag_distribution(gdf, region_name):\n",
    "    tags = gdf[\"tag\"].value_counts().head(20)\n",
    "    tags.plot(kind=\"barh\", figsize=(8, 6), title=f\"Top Tags in {region_name}\")\n",
    "    plt.gca().invert_yaxis()\n",
    "    plt.xlabel(\"Count\")\n",
    "    plt.show()\n",
    "\n",
    "plot_tag_distribution(nyc_gdf, \"NYC\")\n",
    "plot_tag_distribution(us_gdf, \"US\")\n"
   ]
  },
  {
   "cell_type": "code",
   "execution_count": null,
   "id": "a216409b",
   "metadata": {},
   "outputs": [],
   "source": [
    "# --- 3. IMAGE-TAG ALIGNMENT ---\n",
    "\n",
    "def compute_mean_colors(image_metadata, sample_size=100):\n",
    "    sample = image_metadata.sample(sample_size)\n",
    "    tag_colors = {}\n",
    "    for tag in sample[\"tag\"].unique():\n",
    "        tag_imgs = sample[sample[\"tag\"] == tag][\"image_path\"]\n",
    "        colors = []\n",
    "        for path in tag_imgs:\n",
    "            try:\n",
    "                img = Image.open(path).convert(\"RGB\")\n",
    "                arr = np.array(img)\n",
    "                colors.append(arr.mean(axis=(0, 1)))\n",
    "            except:\n",
    "                continue\n",
    "        if colors:\n",
    "            tag_colors[tag] = np.mean(colors, axis=0)\n",
    "    return tag_colors\n",
    "\n",
    "mean_colors = compute_mean_colors(img_df)\n",
    "pd.DataFrame(mean_colors).T.plot(kind=\"bar\", figsize=(10, 5), title=\"Mean Image Color by Tag\")\n",
    "plt.xlabel(\"Tag\")\n",
    "plt.ylabel(\"RGB Mean\")\n",
    "plt.show()"
   ]
  },
  {
   "cell_type": "code",
   "execution_count": null,
   "id": "17c5a6f1",
   "metadata": {},
   "outputs": [],
   "source": [
    "\n",
    "# --- 4. MODEL-RELEVANT FEATURES: TAG EMBEDDING CLUSTERING ---\n",
    "def plot_tag_embedding_tsne(embeddings, tag_texts):\n",
    "    tsne = TSNE(n_components=2, perplexity=5, random_state=0)\n",
    "    reduced = tsne.fit_transform(embeddings)\n",
    "    plt.figure(figsize=(10, 8))\n",
    "    plt.scatter(reduced[:, 0], reduced[:, 1])\n",
    "    for i, txt in enumerate(tag_texts):\n",
    "        plt.annotate(txt, (reduced[i, 0], reduced[i, 1]), fontsize=9, alpha=0.6)\n",
    "    plt.title(\"t-SNE of Tag Embeddings\")\n",
    "    plt.show()\n",
    "\n",
    "plot_tag_embedding_tsne(tag_embeddings, tag_text[\"tag_text\"].tolist())\n"
   ]
  }
 ],
 "metadata": {
  "language_info": {
   "name": "python"
  }
 },
 "nbformat": 4,
 "nbformat_minor": 5
}
